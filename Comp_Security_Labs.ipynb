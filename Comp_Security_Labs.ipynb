{
  "cells": [
    {
      "cell_type": "markdown",
      "source": [
        "## Ceaser Cipher"
      ],
      "metadata": {
        "id": "YLrJU4nRR0gP"
      }
    },
    {
      "cell_type": "code",
      "execution_count": null,
      "metadata": {
        "id": "2jWnXy0V9K1g"
      },
      "outputs": [],
      "source": [
        "v = {\n",
        "    'a': 0, 'b': 1, 'c': 2, 'd': 3, 'e': 4, 'f': 5, 'g': 6, 'h': 7,\n",
        "    'i': 8, 'j': 9, 'k': 10, 'l': 11, 'm': 12, 'n': 13, 'o': 14,\n",
        "    'p': 15,'q': 16, 'r': 17, 's': 18, 't': 19, 'u': 20, 'v': 21,\n",
        "    'w':22, 'x': 23,'y': 24, 'z': 25\n",
        "}\n",
        "def keyy(v, value):\n",
        "    value = value % 26\n",
        "    for key, val in v.items():\n",
        "        if val == value:\n",
        "            return key\n",
        "    return None\n",
        "\n",
        "def ceasar_e(text, key):\n",
        "    text = text.lower()\n",
        "    ciphertext = ''\n",
        "    for let in text:\n",
        "        if let == ' ':\n",
        "            ciphertext += ' '\n",
        "        else:\n",
        "            n = ''\n",
        "            n = keyy(v, v[let]+key)\n",
        "            ciphertext += n\n",
        "    return ciphertext\n",
        "\n",
        "def ceasar_d(c_text, key):\n",
        "    c_text = c_text.lower()\n",
        "    plaintext = ''\n",
        "    for let in c_text:\n",
        "        if let == ' ':\n",
        "            plaintext += ' '\n",
        "        else:\n",
        "            n = ''\n",
        "            n = keyy(v, v[let]-key)\n",
        "            plaintext += n\n",
        "    return plaintext\n",
        "\n",
        "print('--------------key = 3---------------------')\n",
        "print('Encrypted = ',ceasar_e('jeevan',3))\n",
        "print('decrypted = ',ceasar_d(ceasar_e('jeevan',3),3))\n",
        "\n",
        "print('\\n')\n",
        "\n",
        "print('Encrypted = ',ceasar_e('j',3))\n",
        "print('decrypted = ',ceasar_d(ceasar_e('j',3),3))\n",
        "\n",
        "print('\\n')\n",
        "\n",
        "print('Encrypted = ',ceasar_e('my name is jeevan sendur g',3))\n",
        "print('decrypted = ',ceasar_d(ceasar_e('my name is jeevan sendur g',3),3))\n",
        "\n",
        "print('--------------key = 5---------------------')\n",
        "\n",
        "print('Encrypted = ',ceasar_e('jeevan',5))\n",
        "print('decrypted = ',ceasar_d(ceasar_e('jeevan',5),5))\n",
        "\n",
        "print('\\n')\n",
        "\n",
        "print('Encrypted = ',ceasar_e('j',5))\n",
        "print('decrypted = ',ceasar_d(ceasar_e('j',5),5))\n",
        "\n",
        "print('\\n')\n",
        "\n",
        "print('Encrypted = ',ceasar_e('my name is jeevan sendur g',5))\n",
        "print('decrypted = ',ceasar_d(ceasar_e('my name is jeevan sendur g',5),5))\n",
        "\n",
        "print('-------------------------------------------')"
      ]
    },
    {
      "cell_type": "markdown",
      "source": [
        "## Playfair Cipher"
      ],
      "metadata": {
        "id": "Vlse9bK3SIPt"
      }
    },
    {
      "cell_type": "code",
      "source": [
        "def create_playfair_matrix(key):\n",
        "    alphabet = \"ABCDEFGHIKLMNOPQRSTUVWXYZ\"\n",
        "    matrix = []\n",
        "    key = ''.join(sorted(set(key.upper()), key=lambda x: key.index(x)))\n",
        "    key = key + ''.join([ch for ch in alphabet if ch not in key])\n",
        "    for i in range(5):\n",
        "        matrix.append(key[i*5:i*5+5])\n",
        "    return matrix\n",
        "\n",
        "def prepare_text(text):\n",
        "    text = text.upper().replace('J', 'I')\n",
        "    if len(text) % 2 != 0:\n",
        "        text += 'X'\n",
        "    pairs = [text[i:i+2] for i in range(0, len(text), 2)]\n",
        "    return pairs\n",
        "\n",
        "def encrypt_playfair(plaintext, key):\n",
        "    matrix = create_playfair_matrix(key)\n",
        "    pairs = prepare_text(plaintext)\n",
        "    ciphertext = ''\n",
        "    for pair in pairs:\n",
        "        r1, c1 = divmod(matrix.index([row for row in matrix if pair[0] in row][0]), 5)\n",
        "        r2, c2 = divmod(matrix.index([row for row in matrix if pair[1] in row][0]), 5)\n",
        "        if r1 == r2:\n",
        "            ciphertext += matrix[r1][(c1 + 1) % 5]\n",
        "            ciphertext += matrix[r2][(c2 + 1) % 5]\n",
        "        elif c1 == c2:\n",
        "            ciphertext += matrix[(r1 + 1) % 5][c1]\n",
        "            ciphertext += matrix[(r2 + 1) % 5][c2]\n",
        "        else:\n",
        "            ciphertext += matrix[r1][c2]\n",
        "            ciphertext += matrix[r2][c1]\n",
        "    return ciphertext\n",
        "\n",
        "def decrypt_playfair(ciphertext, key):\n",
        "    matrix = create_playfair_matrix(key)\n",
        "    pairs = prepare_text(ciphertext)\n",
        "    plaintext = ''\n",
        "    for pair in pairs:\n",
        "        r1, c1 = divmod(matrix.index([row for row in matrix if pair[0] in row][0]), 5)\n",
        "        r2, c2 = divmod(matrix.index([row for row in matrix if pair[1] in row][0]), 5)\n",
        "        if r1 == r2:\n",
        "            plaintext += matrix[r1][(c1 - 1) % 5]\n",
        "            plaintext += matrix[r2][(c2 - 1) % 5]\n",
        "        elif c1 == c2:\n",
        "            plaintext += matrix[(r1 - 1) % 5][c1]\n",
        "            plaintext += matrix[(r2 - 1) % 5][c2]\n",
        "        else:\n",
        "            plaintext += matrix[r1][c2]\n",
        "            plaintext += matrix[r2][c1]\n",
        "    return plaintext.rstrip('X')\n",
        "\n",
        "plaintext = \"Hello World\"\n",
        "key = \"playfair\"\n",
        "encrypted = encrypt_playfair(plaintext, key)\n",
        "decrypted = decrypt_playfair(encrypted, key)\n",
        "\n",
        "print(\"Plaintext:\", plaintext)\n",
        "print(\"Encrypted:\", encrypted)\n",
        "print(\"Decrypted:\", decrypted)\n"
      ],
      "metadata": {
        "id": "h4VqsbWzSH7n"
      },
      "execution_count": null,
      "outputs": []
    },
    {
      "cell_type": "markdown",
      "source": [
        "## Hill Cipher"
      ],
      "metadata": {
        "id": "FJJHD5dDSc8p"
      }
    },
    {
      "cell_type": "code",
      "source": [
        "import numpy as np\n",
        "\n",
        "def mod26(matrix):\n",
        "    return np.mod(matrix, 26)\n",
        "\n",
        "def matrix_inverse(matrix):\n",
        "    determinant = int(np.linalg.det(matrix)) % 26\n",
        "    determinant_inv = pow(determinant, -1, 26)\n",
        "    adjugate = np.linalg.inv(matrix).T * determinant\n",
        "    adjugate = np.round(adjugate).astype(int)\n",
        "    return mod26(determinant_inv * adjugate)\n",
        "\n",
        "def create_matrix(key):\n",
        "    matrix = []\n",
        "    for i in range(0, len(key), 2):\n",
        "        matrix.append([ord(key[i]) - 65, ord(key[i+1]) - 65])\n",
        "    return np.array(matrix)\n",
        "\n",
        "def hill_encrypt(plaintext, key):\n",
        "    key_matrix = create_matrix(key)\n",
        "    plaintext = [ord(char) - 65 for char in plaintext.upper() if char.isalpha()]\n",
        "    plaintext = np.array(plaintext).reshape(-1, 2).T\n",
        "    encrypted = np.dot(key_matrix, plaintext)\n",
        "    encrypted = mod26(encrypted)\n",
        "    return ''.join([chr(num + 65) for num in encrypted.T.flatten()])\n",
        "\n",
        "def hill_decrypt(ciphertext, key):\n",
        "    key_matrix = create_matrix(key)\n",
        "    key_matrix_inv = matrix_inverse(key_matrix)\n",
        "    ciphertext = [ord(char) - 65 for char in ciphertext.upper() if char.isalpha()]\n",
        "    ciphertext = np.array(ciphertext).reshape(-1, 2).T\n",
        "    decrypted = np.dot(key_matrix_inv, ciphertext)\n",
        "    decrypted = mod26(decrypted)\n",
        "    return ''.join([chr(num + 65) for num in decrypted.T.flatten()])\n",
        "\n",
        "plaintext = \"HELLO\"\n",
        "key = \"GYBNQKURP\"\n",
        "encrypted = hill_encrypt(plaintext, key)\n",
        "decrypted = hill_decrypt(encrypted, key)\n",
        "\n",
        "print(\"Plaintext:\", plaintext)\n",
        "print(\"Encrypted:\", encrypted)\n",
        "print(\"Decrypted:\", decrypted)\n"
      ],
      "metadata": {
        "id": "jXHpPcE9SkGe"
      },
      "execution_count": null,
      "outputs": []
    },
    {
      "cell_type": "markdown",
      "source": [
        "## Viginère Cipher"
      ],
      "metadata": {
        "id": "YGIRWFGlSt_u"
      }
    },
    {
      "cell_type": "code",
      "source": [],
      "metadata": {
        "id": "bqSzC0CPTP4O"
      },
      "execution_count": null,
      "outputs": []
    }
  ],
  "metadata": {
    "colab": {
      "provenance": []
    },
    "kernelspec": {
      "display_name": "Python 3",
      "name": "python3"
    },
    "language_info": {
      "name": "python"
    }
  },
  "nbformat": 4,
  "nbformat_minor": 0
}
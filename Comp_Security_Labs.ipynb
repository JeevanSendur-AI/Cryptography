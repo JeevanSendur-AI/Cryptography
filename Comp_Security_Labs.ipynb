{
  "cells": [
    {
      "cell_type": "markdown",
      "source": [
        "## Ceaser Cipher"
      ],
      "metadata": {
        "id": "YLrJU4nRR0gP"
      }
    },
    {
      "cell_type": "code",
      "execution_count": null,
      "metadata": {
        "id": "2jWnXy0V9K1g"
      },
      "outputs": [],
      "source": [
        "v = {\n",
        "    'a': 0, 'b': 1, 'c': 2, 'd': 3, 'e': 4, 'f': 5, 'g': 6, 'h': 7,\n",
        "    'i': 8, 'j': 9, 'k': 10, 'l': 11, 'm': 12, 'n': 13, 'o': 14,\n",
        "    'p': 15,'q': 16, 'r': 17, 's': 18, 't': 19, 'u': 20, 'v': 21,\n",
        "    'w':22, 'x': 23,'y': 24, 'z': 25\n",
        "}\n",
        "def keyy(v, value):\n",
        "    value = value % 26\n",
        "    for key, val in v.items():\n",
        "        if val == value:\n",
        "            return key\n",
        "    return None\n",
        "\n",
        "def ceasar_e(text, key):\n",
        "    text = text.lower()\n",
        "    ciphertext = ''\n",
        "    for let in text:\n",
        "        if let == ' ':\n",
        "            ciphertext += ' '\n",
        "        else:\n",
        "            n = ''\n",
        "            n = keyy(v, v[let]+key)\n",
        "            ciphertext += n\n",
        "    return ciphertext\n",
        "\n",
        "def ceasar_d(c_text, key):\n",
        "    c_text = c_text.lower()\n",
        "    plaintext = ''\n",
        "    for let in c_text:\n",
        "        if let == ' ':\n",
        "            plaintext += ' '\n",
        "        else:\n",
        "            n = ''\n",
        "            n = keyy(v, v[let]-key)\n",
        "            plaintext += n\n",
        "    return plaintext\n",
        "\n",
        "print('--------------key = 3---------------------')\n",
        "print('Encrypted = ',ceasar_e('jeevan',3))\n",
        "print('decrypted = ',ceasar_d(ceasar_e('jeevan',3),3))\n",
        "\n",
        "print('\\n')\n",
        "\n",
        "print('Encrypted = ',ceasar_e('j',3))\n",
        "print('decrypted = ',ceasar_d(ceasar_e('j',3),3))\n",
        "\n",
        "print('\\n')\n",
        "\n",
        "print('Encrypted = ',ceasar_e('my name is jeevan sendur g',3))\n",
        "print('decrypted = ',ceasar_d(ceasar_e('my name is jeevan sendur g',3),3))\n",
        "\n",
        "print('--------------key = 5---------------------')\n",
        "\n",
        "print('Encrypted = ',ceasar_e('jeevan',5))\n",
        "print('decrypted = ',ceasar_d(ceasar_e('jeevan',5),5))\n",
        "\n",
        "print('\\n')\n",
        "\n",
        "print('Encrypted = ',ceasar_e('j',5))\n",
        "print('decrypted = ',ceasar_d(ceasar_e('j',5),5))\n",
        "\n",
        "print('\\n')\n",
        "\n",
        "print('Encrypted = ',ceasar_e('my name is jeevan sendur g',5))\n",
        "print('decrypted = ',ceasar_d(ceasar_e('my name is jeevan sendur g',5),5))\n",
        "\n",
        "print('-------------------------------------------')"
      ]
    },
    {
      "cell_type": "markdown",
      "source": [
        "## Playfair Cipher"
      ],
      "metadata": {
        "id": "Vlse9bK3SIPt"
      }
    },
    {
      "cell_type": "code",
      "source": [
        "def create_playfair_matrix(key):\n",
        "    alphabet = \"ABCDEFGHIKLMNOPQRSTUVWXYZ\"\n",
        "    matrix = []\n",
        "    key = ''.join(sorted(set(key.upper()), key=lambda x: key.index(x)))\n",
        "    key = key + ''.join([ch for ch in alphabet if ch not in key])\n",
        "    for i in range(5):\n",
        "        matrix.append(key[i*5:i*5+5])\n",
        "    return matrix\n",
        "\n",
        "def prepare_text(text):\n",
        "    text = text.upper().replace('J', 'I')\n",
        "    if len(text) % 2 != 0:\n",
        "        text += 'X'\n",
        "    pairs = [text[i:i+2] for i in range(0, len(text), 2)]\n",
        "    return pairs\n",
        "\n",
        "def encrypt_playfair(plaintext, key):\n",
        "    matrix = create_playfair_matrix(key)\n",
        "    pairs = prepare_text(plaintext)\n",
        "    ciphertext = ''\n",
        "    for pair in pairs:\n",
        "        r1, c1 = divmod(matrix.index([row for row in matrix if pair[0] in row][0]), 5)\n",
        "        r2, c2 = divmod(matrix.index([row for row in matrix if pair[1] in row][0]), 5)\n",
        "        if r1 == r2:\n",
        "            ciphertext += matrix[r1][(c1 + 1) % 5]\n",
        "            ciphertext += matrix[r2][(c2 + 1) % 5]\n",
        "        elif c1 == c2:\n",
        "            ciphertext += matrix[(r1 + 1) % 5][c1]\n",
        "            ciphertext += matrix[(r2 + 1) % 5][c2]\n",
        "        else:\n",
        "            ciphertext += matrix[r1][c2]\n",
        "            ciphertext += matrix[r2][c1]\n",
        "    return ciphertext\n",
        "\n",
        "def decrypt_playfair(ciphertext, key):\n",
        "    matrix = create_playfair_matrix(key)\n",
        "    pairs = prepare_text(ciphertext)\n",
        "    plaintext = ''\n",
        "    for pair in pairs:\n",
        "        r1, c1 = divmod(matrix.index([row for row in matrix if pair[0] in row][0]), 5)\n",
        "        r2, c2 = divmod(matrix.index([row for row in matrix if pair[1] in row][0]), 5)\n",
        "        if r1 == r2:\n",
        "            plaintext += matrix[r1][(c1 - 1) % 5]\n",
        "            plaintext += matrix[r2][(c2 - 1) % 5]\n",
        "        elif c1 == c2:\n",
        "            plaintext += matrix[(r1 - 1) % 5][c1]\n",
        "            plaintext += matrix[(r2 - 1) % 5][c2]\n",
        "        else:\n",
        "            plaintext += matrix[r1][c2]\n",
        "            plaintext += matrix[r2][c1]\n",
        "    return plaintext.rstrip('X')\n",
        "\n",
        "plaintext = \"vanakkam bro\"\n",
        "key = \"DMK\"\n",
        "encrypted = encrypt_playfair(plaintext, key)\n",
        "decrypted = decrypt_playfair(encrypted, key)\n",
        "\n",
        "print(\"Plaintext:\", plaintext)\n",
        "print(\"Encrypted:\", encrypted)\n",
        "print(\"Decrypted:\", decrypted)\n"
      ],
      "metadata": {
        "id": "h4VqsbWzSH7n",
        "outputId": "11953164-9ea3-46df-fe2b-e0e36ab127c1",
        "colab": {
          "base_uri": "https://localhost:8080/",
          "height": 341
        }
      },
      "execution_count": 3,
      "outputs": [
        {
          "output_type": "error",
          "ename": "IndexError",
          "evalue": "list index out of range",
          "traceback": [
            "\u001b[0;31m---------------------------------------------------------------------------\u001b[0m",
            "\u001b[0;31mIndexError\u001b[0m                                Traceback (most recent call last)",
            "\u001b[0;32m<ipython-input-3-cdc2dad88b91>\u001b[0m in \u001b[0;36m<cell line: 55>\u001b[0;34m()\u001b[0m\n\u001b[1;32m     53\u001b[0m \u001b[0mplaintext\u001b[0m \u001b[0;34m=\u001b[0m \u001b[0;34m\"vanakkam bro\"\u001b[0m\u001b[0;34m\u001b[0m\u001b[0;34m\u001b[0m\u001b[0m\n\u001b[1;32m     54\u001b[0m \u001b[0mkey\u001b[0m \u001b[0;34m=\u001b[0m \u001b[0;34m\"DMK\"\u001b[0m\u001b[0;34m\u001b[0m\u001b[0;34m\u001b[0m\u001b[0m\n\u001b[0;32m---> 55\u001b[0;31m \u001b[0mencrypted\u001b[0m \u001b[0;34m=\u001b[0m \u001b[0mencrypt_playfair\u001b[0m\u001b[0;34m(\u001b[0m\u001b[0mplaintext\u001b[0m\u001b[0;34m,\u001b[0m \u001b[0mkey\u001b[0m\u001b[0;34m)\u001b[0m\u001b[0;34m\u001b[0m\u001b[0;34m\u001b[0m\u001b[0m\n\u001b[0m\u001b[1;32m     56\u001b[0m \u001b[0mdecrypted\u001b[0m \u001b[0;34m=\u001b[0m \u001b[0mdecrypt_playfair\u001b[0m\u001b[0;34m(\u001b[0m\u001b[0mencrypted\u001b[0m\u001b[0;34m,\u001b[0m \u001b[0mkey\u001b[0m\u001b[0;34m)\u001b[0m\u001b[0;34m\u001b[0m\u001b[0;34m\u001b[0m\u001b[0m\n\u001b[1;32m     57\u001b[0m \u001b[0;34m\u001b[0m\u001b[0m\n",
            "\u001b[0;32m<ipython-input-3-cdc2dad88b91>\u001b[0m in \u001b[0;36mencrypt_playfair\u001b[0;34m(plaintext, key)\u001b[0m\n\u001b[1;32m     20\u001b[0m     \u001b[0mciphertext\u001b[0m \u001b[0;34m=\u001b[0m \u001b[0;34m''\u001b[0m\u001b[0;34m\u001b[0m\u001b[0;34m\u001b[0m\u001b[0m\n\u001b[1;32m     21\u001b[0m     \u001b[0;32mfor\u001b[0m \u001b[0mpair\u001b[0m \u001b[0;32min\u001b[0m \u001b[0mpairs\u001b[0m\u001b[0;34m:\u001b[0m\u001b[0;34m\u001b[0m\u001b[0;34m\u001b[0m\u001b[0m\n\u001b[0;32m---> 22\u001b[0;31m         \u001b[0mr1\u001b[0m\u001b[0;34m,\u001b[0m \u001b[0mc1\u001b[0m \u001b[0;34m=\u001b[0m \u001b[0mdivmod\u001b[0m\u001b[0;34m(\u001b[0m\u001b[0mmatrix\u001b[0m\u001b[0;34m.\u001b[0m\u001b[0mindex\u001b[0m\u001b[0;34m(\u001b[0m\u001b[0;34m[\u001b[0m\u001b[0mrow\u001b[0m \u001b[0;32mfor\u001b[0m \u001b[0mrow\u001b[0m \u001b[0;32min\u001b[0m \u001b[0mmatrix\u001b[0m \u001b[0;32mif\u001b[0m \u001b[0mpair\u001b[0m\u001b[0;34m[\u001b[0m\u001b[0;36m0\u001b[0m\u001b[0;34m]\u001b[0m \u001b[0;32min\u001b[0m \u001b[0mrow\u001b[0m\u001b[0;34m]\u001b[0m\u001b[0;34m[\u001b[0m\u001b[0;36m0\u001b[0m\u001b[0;34m]\u001b[0m\u001b[0;34m)\u001b[0m\u001b[0;34m,\u001b[0m \u001b[0;36m5\u001b[0m\u001b[0;34m)\u001b[0m\u001b[0;34m\u001b[0m\u001b[0;34m\u001b[0m\u001b[0m\n\u001b[0m\u001b[1;32m     23\u001b[0m         \u001b[0mr2\u001b[0m\u001b[0;34m,\u001b[0m \u001b[0mc2\u001b[0m \u001b[0;34m=\u001b[0m \u001b[0mdivmod\u001b[0m\u001b[0;34m(\u001b[0m\u001b[0mmatrix\u001b[0m\u001b[0;34m.\u001b[0m\u001b[0mindex\u001b[0m\u001b[0;34m(\u001b[0m\u001b[0;34m[\u001b[0m\u001b[0mrow\u001b[0m \u001b[0;32mfor\u001b[0m \u001b[0mrow\u001b[0m \u001b[0;32min\u001b[0m \u001b[0mmatrix\u001b[0m \u001b[0;32mif\u001b[0m \u001b[0mpair\u001b[0m\u001b[0;34m[\u001b[0m\u001b[0;36m1\u001b[0m\u001b[0;34m]\u001b[0m \u001b[0;32min\u001b[0m \u001b[0mrow\u001b[0m\u001b[0;34m]\u001b[0m\u001b[0;34m[\u001b[0m\u001b[0;36m0\u001b[0m\u001b[0;34m]\u001b[0m\u001b[0;34m)\u001b[0m\u001b[0;34m,\u001b[0m \u001b[0;36m5\u001b[0m\u001b[0;34m)\u001b[0m\u001b[0;34m\u001b[0m\u001b[0;34m\u001b[0m\u001b[0m\n\u001b[1;32m     24\u001b[0m         \u001b[0;32mif\u001b[0m \u001b[0mr1\u001b[0m \u001b[0;34m==\u001b[0m \u001b[0mr2\u001b[0m\u001b[0;34m:\u001b[0m\u001b[0;34m\u001b[0m\u001b[0;34m\u001b[0m\u001b[0m\n",
            "\u001b[0;31mIndexError\u001b[0m: list index out of range"
          ]
        }
      ]
    },
    {
      "cell_type": "markdown",
      "source": [
        "## Hill Cipher"
      ],
      "metadata": {
        "id": "FJJHD5dDSc8p"
      }
    },
    {
      "cell_type": "code",
      "source": [
        "import numpy as np\n",
        "\n",
        "def mod26(matrix):\n",
        "    return np.mod(matrix, 26)\n",
        "\n",
        "def matrix_inverse(matrix):\n",
        "    determinant = int(np.linalg.det(matrix)) % 26\n",
        "    determinant_inv = pow(determinant, -1, 26)\n",
        "    adjugate = np.linalg.inv(matrix).T * determinant\n",
        "    adjugate = np.round(adjugate).astype(int)\n",
        "    return mod26(determinant_inv * adjugate)\n",
        "\n",
        "def create_matrix(key):\n",
        "    matrix = []\n",
        "    for i in range(0, len(key), 2):\n",
        "        matrix.append([ord(key[i]) - 65, ord(key[i+1]) - 65])\n",
        "    return np.array(matrix)\n",
        "\n",
        "def hill_encrypt(plaintext, key):\n",
        "    key_matrix = create_matrix(key)\n",
        "    plaintext = [ord(char) - 65 for char in plaintext.upper() if char.isalpha()]\n",
        "    plaintext = np.array(plaintext).reshape(-1, 2).T\n",
        "    encrypted = np.dot(key_matrix, plaintext)\n",
        "    encrypted = mod26(encrypted)\n",
        "    return ''.join([chr(num + 65) for num in encrypted.T.flatten()])\n",
        "\n",
        "def hill_decrypt(ciphertext, key):\n",
        "    key_matrix = create_matrix(key)\n",
        "    key_matrix_inv = matrix_inverse(key_matrix)\n",
        "    ciphertext = [ord(char) - 65 for char in ciphertext.upper() if char.isalpha()]\n",
        "    ciphertext = np.array(ciphertext).reshape(-1, 2).T\n",
        "    decrypted = np.dot(key_matrix_inv, ciphertext)\n",
        "    decrypted = mod26(decrypted)\n",
        "    return ''.join([chr(num + 65) for num in decrypted.T.flatten()])\n",
        "\n",
        "plaintext = \"HELLO\"\n",
        "key = \"GYBNQKURP\"\n",
        "encrypted = hill_encrypt(plaintext, key)\n",
        "decrypted = hill_decrypt(encrypted, key)\n",
        "\n",
        "print(\"Plaintext:\", plaintext)\n",
        "print(\"Encrypted:\", encrypted)\n",
        "print(\"Decrypted:\", decrypted)\n"
      ],
      "metadata": {
        "id": "jXHpPcE9SkGe"
      },
      "execution_count": null,
      "outputs": []
    },
    {
      "cell_type": "markdown",
      "source": [
        "## Vigenère Cipher"
      ],
      "metadata": {
        "id": "YGIRWFGlSt_u"
      }
    },
    {
      "cell_type": "code",
      "source": [
        "def generate_key(msg, key):\n",
        "    key = list(key)\n",
        "    if len(msg) == len(key):\n",
        "        return key\n",
        "    else:\n",
        "        for i in range(len(msg) - len(key)):\n",
        "            key.append(key[i % len(key)])\n",
        "    return \"\".join(key)\n",
        "\n",
        "def encrypt_vigenere(msg, key):\n",
        "    encrypted_text = []\n",
        "    key = generate_key(msg, key)\n",
        "    for i in range(len(msg)):\n",
        "        char = msg[i]\n",
        "        if char.isupper():\n",
        "            encrypted_char = chr((ord(char) + ord(key[i]) - 2 * ord('A')) % 26 + ord('A'))\n",
        "        elif char.islower():\n",
        "            encrypted_char = chr((ord(char) + ord(key[i]) - 2 * ord('a')) % 26 + ord('a'))\n",
        "        else:\n",
        "            encrypted_char = char\n",
        "        encrypted_text.append(encrypted_char)\n",
        "    return \"\".join(encrypted_text)\n",
        "\n",
        "def decrypt_vigenere(msg, key):\n",
        "    decrypted_text = []\n",
        "    key = generate_key(msg, key)\n",
        "    for i in range(len(msg)):\n",
        "        char = msg[i]\n",
        "        if char.isupper():\n",
        "            decrypted_char = chr((ord(char) - ord(key[i]) + 26) % 26 + ord('A'))\n",
        "        elif char.islower():\n",
        "            decrypted_char = chr((ord(char) - ord(key[i]) + 26) % 26 + ord('a'))\n",
        "        else:\n",
        "            decrypted_char = char\n",
        "        decrypted_text.append(decrypted_char)\n",
        "    return \"\".join(decrypted_text)\n",
        "\n",
        "text_to_encrypt = \"Vanakkam da mapla maduraila irundhu\"\n",
        "key = \"PATHUKILOKARI\"\n",
        "\n",
        "encrypted_text = encrypt_vigenere(text_to_encrypt, key)\n",
        "print(f\"Encrypted Text: {encrypted_text}\")\n",
        "\n",
        "decrypted_text = decrypt_vigenere(encrypted_text, key)\n",
        "print(f\"Decrypted Text: {decrypted_text}\")"
      ],
      "metadata": {
        "id": "bqSzC0CPTP4O",
        "outputId": "e44f49ec-db76-4ef8-d592-2b7d3975470c",
        "colab": {
          "base_uri": "https://localhost:8080/"
        }
      },
      "execution_count": 1,
      "outputs": [
        {
          "output_type": "stream",
          "name": "stdout",
          "text": [
            "Encrypted Text: Kuabyocr hu ojjyb qcicvutnj vsirfmc\n",
            "Decrypted Text: Vanakkam da mapla maduraila irundhu\n"
          ]
        }
      ]
    }
  ],
  "metadata": {
    "colab": {
      "provenance": []
    },
    "kernelspec": {
      "display_name": "Python 3",
      "name": "python3"
    },
    "language_info": {
      "name": "python"
    }
  },
  "nbformat": 4,
  "nbformat_minor": 0
}
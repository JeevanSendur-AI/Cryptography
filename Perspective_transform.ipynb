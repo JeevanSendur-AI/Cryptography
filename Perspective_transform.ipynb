{
  "cells": [
    {
      "cell_type": "code",
      "execution_count": null,
      "metadata": {
        "id": "2jWnXy0V9K1g"
      },
      "outputs": [],
      "source": [
        "import cv2\n",
        "import numpy as np\n",
        "import matplotlib.pyplot as plt\n",
        "\n",
        "# Load the image\n",
        "image = cv2.imread(\"chessboard.jpg\")\n",
        "# Convert to grayscale\n",
        "gray = cv2.cvtColor(image, cv2.COLOR_BGR2GRAY)\n",
        "\n",
        "# Apply GaussianBlur to reduce noise\n",
        "blurred = cv2.GaussianBlur(gray, (5, 5), 0)\n",
        "\n",
        "# Step 1: Edge Detection using Canny\n",
        "edges = cv2.Canny(blurred, 50, 150)\n",
        "\n",
        "# Step 2: Find contours\n",
        "contours, _ = cv2.findContours(edges, cv2.RETR_EXTERNAL, cv2.CHAIN_APPROX_SIMPLE)\n",
        "\n",
        "# Step 3: Sort contours by area and find the largest contour (the chessboard)\n",
        "contours = sorted(contours, key=cv2.contourArea, reverse=True)\n",
        "doc_contour = None\n",
        "\n",
        "for contour in contours:\n",
        "    # Approximate the contour to a polygon\n",
        "    epsilon = 0.04 * cv2.arcLength(contour, True)\n",
        "    approx = cv2.approxPolyDP(contour, epsilon, True)\n",
        "    \n",
        "    # If the approximated polygon has 4 corners, we assume it's the chessboard\n",
        "    if len(approx) == 4:\n",
        "        doc_contour = approx\n",
        "        break\n",
        "\n",
        "# Step 4: If we found a valid contour, apply perspective transformation\n",
        "if doc_contour is not None:\n",
        "    # Get the 4 corners of the detected chessboard\n",
        "    pts = doc_contour.reshape(4, 2)\n",
        "\n",
        "    # Order the points in top-left, top-right, bottom-right, bottom-left order\n",
        "    pts = sorted(pts, key=lambda x: x[0])  # Sort by x-coordinate\n",
        "    if pts[0][1] > pts[1][1]:\n",
        "        pts[0], pts[1] = pts[1], pts[0]\n",
        "    if pts[2][1] < pts[3][1]:\n",
        "        pts[2], pts[3] = pts[3], pts[2]\n",
        "\n",
        "    # Define the destination points (top-down view of the chessboard)\n",
        "    width = max(np.linalg.norm(pts[2] - pts[3]), np.linalg.norm(pts[1] - pts[0]))\n",
        "    height = max(np.linalg.norm(pts[1] - pts[2]), np.linalg.norm(pts[3] - pts[0]))\n",
        "    dst_pts = np.array([[0, 0], [width - 1, 0], [width - 1, height - 1], [0, height - 1]], dtype=\"float32\")\n",
        "\n",
        "    # Step 5: Get the perspective transform matrix\n",
        "    M = cv2.getPerspectiveTransform(np.float32(pts), dst_pts)\n",
        "\n",
        "    # Apply the perspective warp to get the top-down view\n",
        "    warped_image = cv2.warpPerspective(image, M, (int(width), int(height)))\n",
        "\n",
        "    # Display the results\n",
        "    plt.figure(figsize=(10, 8))\n",
        "    plt.subplot(121)\n",
        "    plt.imshow(cv2.cvtColor(image, cv2.COLOR_BGR2RGB))\n",
        "    plt.title(\"Original Image\")\n",
        "    plt.subplot(122)\n",
        "    plt.imshow(cv2.cvtColor(warped_image, cv2.COLOR_BGR2RGB))\n",
        "    plt.title(\"Warped Image (Top-down View)\")\n",
        "    plt.show()\n",
        "else:\n",
        "    print(\"Chessboard contour not found\")\n"
      ]
    }
  ],
  "metadata": {
    "colab": {
      "provenance": []
    },
    "kernelspec": {
      "display_name": "Python 3",
      "name": "python3"
    },
    "language_info": {
      "name": "python"
    }
  },
  "nbformat": 4,
  "nbformat_minor": 0
}
